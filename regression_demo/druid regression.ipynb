{
 "cells": [
  {
   "cell_type": "code",
   "execution_count": 57,
   "id": "b134e291",
   "metadata": {},
   "outputs": [],
   "source": [
    "from IPython.display import HTML\n",
    "import random\n",
    "def hide_toggle(for_next=False):\n",
    "    this_cell = \"\"\"$('div.cell.code_cell.rendered.selected')\"\"\"\n",
    "    next_cell = this_cell + '.next()'\n",
    "\n",
    "    toggle_text = 'Toggle show/hide'  # text shown on toggle link\n",
    "    target_cell = this_cell  # target cell to control with toggle\n",
    "    js_hide_current = ''  # bit of JS to permanently hide code in current cell (only when toggling next cell)\n",
    "\n",
    "    if for_next:\n",
    "        target_cell = next_cell\n",
    "        toggle_text += ' next cell'\n",
    "        js_hide_current = this_cell + '.find(\"div.input\").hide();'\n",
    "\n",
    "    js_f_name = 'code_toggle_{}'.format(str(random.randint(1,2**64)))\n",
    "\n",
    "    html = \"\"\"\n",
    "        <script>\n",
    "            function {f_name}() {{\n",
    "                {cell_selector}.find('div.input').toggle();\n",
    "            }}\n",
    "\n",
    "            {js_hide_current}\n",
    "        </script>\n",
    "\n",
    "        <a href=\"javascript:{f_name}()\">{toggle_text}</a>\n",
    "    \"\"\".format(\n",
    "        f_name=js_f_name,\n",
    "        cell_selector=target_cell,\n",
    "        js_hide_current=js_hide_current, \n",
    "        toggle_text=toggle_text\n",
    "    )\n",
    "\n",
    "    return HTML(html)"
   ]
  },
  {
   "cell_type": "code",
   "execution_count": 58,
   "id": "12ebc0d0",
   "metadata": {},
   "outputs": [],
   "source": [
    "from pydruid.client import *\n",
    "from pydruid.utils.aggregators import *\n",
    "from pydruid.db import connect\n",
    "import pandas as pd\n",
    "import numpy as np\n",
    "from sklearn.model_selection import train_test_split\n",
    "from sklearn.metrics import accuracy_score\n",
    "from sklearn.metrics import classification_report\n",
    "from sklearn.linear_model import LogisticRegression\n",
    "from sklearn import *\n",
    "import random\n",
    "import html"
   ]
  },
  {
   "cell_type": "code",
   "execution_count": 59,
   "id": "19e11485",
   "metadata": {},
   "outputs": [
    {
     "data": {
      "text/html": [
       "\n",
       "        <script>\n",
       "            function code_toggle_3894643284469660583() {\n",
       "                $('div.cell.code_cell.rendered.selected').find('div.input').toggle();\n",
       "            }\n",
       "\n",
       "            \n",
       "        </script>\n",
       "\n",
       "        <a href=\"javascript:code_toggle_3894643284469660583()\">Toggle show/hide</a>\n",
       "    "
      ],
      "text/plain": [
       "<IPython.core.display.HTML object>"
      ]
     },
     "execution_count": 59,
     "metadata": {},
     "output_type": "execute_result"
    }
   ],
   "source": [
    "\n",
    "\n",
    "conn = connect(\n",
    "  host='localhost',\n",
    "  port=9999,\n",
    "  path='druid/v2/sql',\n",
    "  scheme='http')\n",
    "\n",
    "curs = conn.cursor()\n",
    "\n",
    "hide_toggle()\n",
    "\n"
   ]
  },
  {
   "cell_type": "code",
   "execution_count": 62,
   "id": "c7a9239b",
   "metadata": {},
   "outputs": [],
   "source": [
    "df = pd.DataFrame(curs.execute(\"\"\"\n",
    "    SELECT time_floor(__time,'PT1H') AS t1,\n",
    "       sum(\"CO (ppm)\") AS CO,\n",
    "       sum(\"Humidity (%r.h.)\") AS Humidity,\n",
    "       sum(\"R1 (MOhm)\") AS R1,\n",
    "       sum(\"R3 (MOhm)\") AS R3,\n",
    "       sum(\"R4 (MOhm)\") R4,\n",
    "       sum(\"R14 (MOhm)\") R14\n",
    "FROM \"druid\".\"regression_demo\" \n",
    "GROUP BY 1\n",
    "\"\"\"))"
   ]
  },
  {
   "cell_type": "code",
   "execution_count": 63,
   "id": "dd465875",
   "metadata": {
    "scrolled": true
   },
   "outputs": [
    {
     "data": {
      "text/html": [
       "<div>\n",
       "<style scoped>\n",
       "    .dataframe tbody tr th:only-of-type {\n",
       "        vertical-align: middle;\n",
       "    }\n",
       "\n",
       "    .dataframe tbody tr th {\n",
       "        vertical-align: top;\n",
       "    }\n",
       "\n",
       "    .dataframe thead th {\n",
       "        text-align: right;\n",
       "    }\n",
       "</style>\n",
       "<table border=\"1\" class=\"dataframe\">\n",
       "  <thead>\n",
       "    <tr style=\"text-align: right;\">\n",
       "      <th></th>\n",
       "      <th>t1</th>\n",
       "      <th>CO</th>\n",
       "      <th>Humidity</th>\n",
       "      <th>R1</th>\n",
       "      <th>R3</th>\n",
       "      <th>R4</th>\n",
       "      <th>R14</th>\n",
       "    </tr>\n",
       "  </thead>\n",
       "  <tbody>\n",
       "    <tr>\n",
       "      <th>0</th>\n",
       "      <td>2016-09-30T20:00:00.000Z</td>\n",
       "      <td>30358</td>\n",
       "      <td>226527.3024</td>\n",
       "      <td>45507.6265</td>\n",
       "      <td>70439.0800</td>\n",
       "      <td>60419.1436</td>\n",
       "      <td>158794.6052</td>\n",
       "    </tr>\n",
       "    <tr>\n",
       "      <th>1</th>\n",
       "      <td>2016-09-30T21:00:00.000Z</td>\n",
       "      <td>165461</td>\n",
       "      <td>534345.0260</td>\n",
       "      <td>132414.8074</td>\n",
       "      <td>208537.4922</td>\n",
       "      <td>180201.3530</td>\n",
       "      <td>217264.3962</td>\n",
       "    </tr>\n",
       "    <tr>\n",
       "      <th>2</th>\n",
       "      <td>2016-09-30T22:00:00.000Z</td>\n",
       "      <td>79809</td>\n",
       "      <td>586290.1359</td>\n",
       "      <td>158090.1088</td>\n",
       "      <td>246551.3464</td>\n",
       "      <td>200512.8857</td>\n",
       "      <td>342610.5736</td>\n",
       "    </tr>\n",
       "    <tr>\n",
       "      <th>3</th>\n",
       "      <td>2016-09-30T23:00:00.000Z</td>\n",
       "      <td>70083</td>\n",
       "      <td>571926.4019</td>\n",
       "      <td>140637.4818</td>\n",
       "      <td>215127.7041</td>\n",
       "      <td>181558.1163</td>\n",
       "      <td>367726.1632</td>\n",
       "    </tr>\n",
       "    <tr>\n",
       "      <th>4</th>\n",
       "      <td>2016-10-01T00:00:00.000Z</td>\n",
       "      <td>130818</td>\n",
       "      <td>537379.5104</td>\n",
       "      <td>150811.8536</td>\n",
       "      <td>227893.2351</td>\n",
       "      <td>198065.0112</td>\n",
       "      <td>272620.8307</td>\n",
       "    </tr>\n",
       "    <tr>\n",
       "      <th>...</th>\n",
       "      <td>...</td>\n",
       "      <td>...</td>\n",
       "      <td>...</td>\n",
       "      <td>...</td>\n",
       "      <td>...</td>\n",
       "      <td>...</td>\n",
       "      <td>...</td>\n",
       "    </tr>\n",
       "    <tr>\n",
       "      <th>309</th>\n",
       "      <td>2016-10-17T02:00:00.000Z</td>\n",
       "      <td>114282</td>\n",
       "      <td>510180.4266</td>\n",
       "      <td>193325.8886</td>\n",
       "      <td>267148.2264</td>\n",
       "      <td>279541.0173</td>\n",
       "      <td>311295.7403</td>\n",
       "    </tr>\n",
       "    <tr>\n",
       "      <th>310</th>\n",
       "      <td>2016-10-17T03:00:00.000Z</td>\n",
       "      <td>105782</td>\n",
       "      <td>452243.7036</td>\n",
       "      <td>262425.8689</td>\n",
       "      <td>358317.8706</td>\n",
       "      <td>373927.3632</td>\n",
       "      <td>339167.6976</td>\n",
       "    </tr>\n",
       "    <tr>\n",
       "      <th>311</th>\n",
       "      <td>2016-10-17T04:00:00.000Z</td>\n",
       "      <td>45669</td>\n",
       "      <td>588479.8215</td>\n",
       "      <td>233266.5356</td>\n",
       "      <td>307558.7268</td>\n",
       "      <td>303627.5813</td>\n",
       "      <td>547745.4894</td>\n",
       "    </tr>\n",
       "    <tr>\n",
       "      <th>312</th>\n",
       "      <td>2016-10-17T05:00:00.000Z</td>\n",
       "      <td>220527</td>\n",
       "      <td>323496.4036</td>\n",
       "      <td>288353.7036</td>\n",
       "      <td>374042.9006</td>\n",
       "      <td>354024.9121</td>\n",
       "      <td>162097.0282</td>\n",
       "    </tr>\n",
       "    <tr>\n",
       "      <th>313</th>\n",
       "      <td>2016-10-17T06:00:00.000Z</td>\n",
       "      <td>117163</td>\n",
       "      <td>614549.0677</td>\n",
       "      <td>198824.8024</td>\n",
       "      <td>241018.6465</td>\n",
       "      <td>206129.1835</td>\n",
       "      <td>272278.1395</td>\n",
       "    </tr>\n",
       "  </tbody>\n",
       "</table>\n",
       "<p>314 rows × 7 columns</p>\n",
       "</div>"
      ],
      "text/plain": [
       "                           t1      CO     Humidity           R1           R3  \\\n",
       "0    2016-09-30T20:00:00.000Z   30358  226527.3024   45507.6265   70439.0800   \n",
       "1    2016-09-30T21:00:00.000Z  165461  534345.0260  132414.8074  208537.4922   \n",
       "2    2016-09-30T22:00:00.000Z   79809  586290.1359  158090.1088  246551.3464   \n",
       "3    2016-09-30T23:00:00.000Z   70083  571926.4019  140637.4818  215127.7041   \n",
       "4    2016-10-01T00:00:00.000Z  130818  537379.5104  150811.8536  227893.2351   \n",
       "..                        ...     ...          ...          ...          ...   \n",
       "309  2016-10-17T02:00:00.000Z  114282  510180.4266  193325.8886  267148.2264   \n",
       "310  2016-10-17T03:00:00.000Z  105782  452243.7036  262425.8689  358317.8706   \n",
       "311  2016-10-17T04:00:00.000Z   45669  588479.8215  233266.5356  307558.7268   \n",
       "312  2016-10-17T05:00:00.000Z  220527  323496.4036  288353.7036  374042.9006   \n",
       "313  2016-10-17T06:00:00.000Z  117163  614549.0677  198824.8024  241018.6465   \n",
       "\n",
       "              R4          R14  \n",
       "0     60419.1436  158794.6052  \n",
       "1    180201.3530  217264.3962  \n",
       "2    200512.8857  342610.5736  \n",
       "3    181558.1163  367726.1632  \n",
       "4    198065.0112  272620.8307  \n",
       "..           ...          ...  \n",
       "309  279541.0173  311295.7403  \n",
       "310  373927.3632  339167.6976  \n",
       "311  303627.5813  547745.4894  \n",
       "312  354024.9121  162097.0282  \n",
       "313  206129.1835  272278.1395  \n",
       "\n",
       "[314 rows x 7 columns]"
      ]
     },
     "execution_count": 63,
     "metadata": {},
     "output_type": "execute_result"
    }
   ],
   "source": [
    "df"
   ]
  },
  {
   "cell_type": "code",
   "execution_count": 64,
   "id": "0cc57bde",
   "metadata": {},
   "outputs": [],
   "source": [
    "X = df[['Humidity','R1','R3','R4','R14']]\n",
    "y = df[['CO']]"
   ]
  },
  {
   "cell_type": "code",
   "execution_count": 65,
   "id": "f71bde7b",
   "metadata": {},
   "outputs": [
    {
     "data": {
      "text/html": [
       "<div>\n",
       "<style scoped>\n",
       "    .dataframe tbody tr th:only-of-type {\n",
       "        vertical-align: middle;\n",
       "    }\n",
       "\n",
       "    .dataframe tbody tr th {\n",
       "        vertical-align: top;\n",
       "    }\n",
       "\n",
       "    .dataframe thead th {\n",
       "        text-align: right;\n",
       "    }\n",
       "</style>\n",
       "<table border=\"1\" class=\"dataframe\">\n",
       "  <thead>\n",
       "    <tr style=\"text-align: right;\">\n",
       "      <th></th>\n",
       "      <th>Humidity</th>\n",
       "      <th>R1</th>\n",
       "      <th>R3</th>\n",
       "      <th>R4</th>\n",
       "      <th>R14</th>\n",
       "    </tr>\n",
       "  </thead>\n",
       "  <tbody>\n",
       "    <tr>\n",
       "      <th>0</th>\n",
       "      <td>226527.3024</td>\n",
       "      <td>45507.6265</td>\n",
       "      <td>70439.0800</td>\n",
       "      <td>60419.1436</td>\n",
       "      <td>158794.6052</td>\n",
       "    </tr>\n",
       "    <tr>\n",
       "      <th>1</th>\n",
       "      <td>534345.0260</td>\n",
       "      <td>132414.8074</td>\n",
       "      <td>208537.4922</td>\n",
       "      <td>180201.3530</td>\n",
       "      <td>217264.3962</td>\n",
       "    </tr>\n",
       "    <tr>\n",
       "      <th>2</th>\n",
       "      <td>586290.1359</td>\n",
       "      <td>158090.1088</td>\n",
       "      <td>246551.3464</td>\n",
       "      <td>200512.8857</td>\n",
       "      <td>342610.5736</td>\n",
       "    </tr>\n",
       "    <tr>\n",
       "      <th>3</th>\n",
       "      <td>571926.4019</td>\n",
       "      <td>140637.4818</td>\n",
       "      <td>215127.7041</td>\n",
       "      <td>181558.1163</td>\n",
       "      <td>367726.1632</td>\n",
       "    </tr>\n",
       "    <tr>\n",
       "      <th>4</th>\n",
       "      <td>537379.5104</td>\n",
       "      <td>150811.8536</td>\n",
       "      <td>227893.2351</td>\n",
       "      <td>198065.0112</td>\n",
       "      <td>272620.8307</td>\n",
       "    </tr>\n",
       "    <tr>\n",
       "      <th>...</th>\n",
       "      <td>...</td>\n",
       "      <td>...</td>\n",
       "      <td>...</td>\n",
       "      <td>...</td>\n",
       "      <td>...</td>\n",
       "    </tr>\n",
       "    <tr>\n",
       "      <th>309</th>\n",
       "      <td>510180.4266</td>\n",
       "      <td>193325.8886</td>\n",
       "      <td>267148.2264</td>\n",
       "      <td>279541.0173</td>\n",
       "      <td>311295.7403</td>\n",
       "    </tr>\n",
       "    <tr>\n",
       "      <th>310</th>\n",
       "      <td>452243.7036</td>\n",
       "      <td>262425.8689</td>\n",
       "      <td>358317.8706</td>\n",
       "      <td>373927.3632</td>\n",
       "      <td>339167.6976</td>\n",
       "    </tr>\n",
       "    <tr>\n",
       "      <th>311</th>\n",
       "      <td>588479.8215</td>\n",
       "      <td>233266.5356</td>\n",
       "      <td>307558.7268</td>\n",
       "      <td>303627.5813</td>\n",
       "      <td>547745.4894</td>\n",
       "    </tr>\n",
       "    <tr>\n",
       "      <th>312</th>\n",
       "      <td>323496.4036</td>\n",
       "      <td>288353.7036</td>\n",
       "      <td>374042.9006</td>\n",
       "      <td>354024.9121</td>\n",
       "      <td>162097.0282</td>\n",
       "    </tr>\n",
       "    <tr>\n",
       "      <th>313</th>\n",
       "      <td>614549.0677</td>\n",
       "      <td>198824.8024</td>\n",
       "      <td>241018.6465</td>\n",
       "      <td>206129.1835</td>\n",
       "      <td>272278.1395</td>\n",
       "    </tr>\n",
       "  </tbody>\n",
       "</table>\n",
       "<p>314 rows × 5 columns</p>\n",
       "</div>"
      ],
      "text/plain": [
       "        Humidity           R1           R3           R4          R14\n",
       "0    226527.3024   45507.6265   70439.0800   60419.1436  158794.6052\n",
       "1    534345.0260  132414.8074  208537.4922  180201.3530  217264.3962\n",
       "2    586290.1359  158090.1088  246551.3464  200512.8857  342610.5736\n",
       "3    571926.4019  140637.4818  215127.7041  181558.1163  367726.1632\n",
       "4    537379.5104  150811.8536  227893.2351  198065.0112  272620.8307\n",
       "..           ...          ...          ...          ...          ...\n",
       "309  510180.4266  193325.8886  267148.2264  279541.0173  311295.7403\n",
       "310  452243.7036  262425.8689  358317.8706  373927.3632  339167.6976\n",
       "311  588479.8215  233266.5356  307558.7268  303627.5813  547745.4894\n",
       "312  323496.4036  288353.7036  374042.9006  354024.9121  162097.0282\n",
       "313  614549.0677  198824.8024  241018.6465  206129.1835  272278.1395\n",
       "\n",
       "[314 rows x 5 columns]"
      ]
     },
     "execution_count": 65,
     "metadata": {},
     "output_type": "execute_result"
    }
   ],
   "source": [
    "X"
   ]
  },
  {
   "cell_type": "code",
   "execution_count": 66,
   "id": "c0ed6ffb",
   "metadata": {},
   "outputs": [
    {
     "data": {
      "text/html": [
       "<div>\n",
       "<style scoped>\n",
       "    .dataframe tbody tr th:only-of-type {\n",
       "        vertical-align: middle;\n",
       "    }\n",
       "\n",
       "    .dataframe tbody tr th {\n",
       "        vertical-align: top;\n",
       "    }\n",
       "\n",
       "    .dataframe thead th {\n",
       "        text-align: right;\n",
       "    }\n",
       "</style>\n",
       "<table border=\"1\" class=\"dataframe\">\n",
       "  <thead>\n",
       "    <tr style=\"text-align: right;\">\n",
       "      <th></th>\n",
       "      <th>CO</th>\n",
       "    </tr>\n",
       "  </thead>\n",
       "  <tbody>\n",
       "    <tr>\n",
       "      <th>0</th>\n",
       "      <td>30358</td>\n",
       "    </tr>\n",
       "    <tr>\n",
       "      <th>1</th>\n",
       "      <td>165461</td>\n",
       "    </tr>\n",
       "    <tr>\n",
       "      <th>2</th>\n",
       "      <td>79809</td>\n",
       "    </tr>\n",
       "    <tr>\n",
       "      <th>3</th>\n",
       "      <td>70083</td>\n",
       "    </tr>\n",
       "    <tr>\n",
       "      <th>4</th>\n",
       "      <td>130818</td>\n",
       "    </tr>\n",
       "    <tr>\n",
       "      <th>...</th>\n",
       "      <td>...</td>\n",
       "    </tr>\n",
       "    <tr>\n",
       "      <th>309</th>\n",
       "      <td>114282</td>\n",
       "    </tr>\n",
       "    <tr>\n",
       "      <th>310</th>\n",
       "      <td>105782</td>\n",
       "    </tr>\n",
       "    <tr>\n",
       "      <th>311</th>\n",
       "      <td>45669</td>\n",
       "    </tr>\n",
       "    <tr>\n",
       "      <th>312</th>\n",
       "      <td>220527</td>\n",
       "    </tr>\n",
       "    <tr>\n",
       "      <th>313</th>\n",
       "      <td>117163</td>\n",
       "    </tr>\n",
       "  </tbody>\n",
       "</table>\n",
       "<p>314 rows × 1 columns</p>\n",
       "</div>"
      ],
      "text/plain": [
       "         CO\n",
       "0     30358\n",
       "1    165461\n",
       "2     79809\n",
       "3     70083\n",
       "4    130818\n",
       "..      ...\n",
       "309  114282\n",
       "310  105782\n",
       "311   45669\n",
       "312  220527\n",
       "313  117163\n",
       "\n",
       "[314 rows x 1 columns]"
      ]
     },
     "execution_count": 66,
     "metadata": {},
     "output_type": "execute_result"
    }
   ],
   "source": [
    "y"
   ]
  },
  {
   "cell_type": "code",
   "execution_count": 67,
   "id": "424a713a",
   "metadata": {},
   "outputs": [],
   "source": [
    "from sklearn.model_selection import train_test_split"
   ]
  },
  {
   "cell_type": "code",
   "execution_count": 68,
   "id": "30f63bb1",
   "metadata": {},
   "outputs": [],
   "source": [
    "X_train, X_test, y_train, y_test = train_test_split(X, y, test_size=0.33, random_state=42)"
   ]
  },
  {
   "cell_type": "code",
   "execution_count": 69,
   "id": "2bb0575e",
   "metadata": {},
   "outputs": [
    {
     "data": {
      "text/plain": [
       "KNeighborsRegressor(n_neighbors=50)"
      ]
     },
     "execution_count": 69,
     "metadata": {},
     "output_type": "execute_result"
    }
   ],
   "source": [
    "from sklearn.neighbors import KNeighborsRegressor\n",
    "knnr = KNeighborsRegressor(n_neighbors = 50)\n",
    "knnr.fit(X_train, y_train)"
   ]
  },
  {
   "cell_type": "code",
   "execution_count": 70,
   "id": "f5d06227",
   "metadata": {},
   "outputs": [
    {
     "name": "stdout",
     "output_type": "stream",
     "text": [
      "The MSE is: CO    9.501070e+08\n",
      "dtype: float64\n"
     ]
    }
   ],
   "source": [
    "print (\"The MSE is:\",format(np.power(y_test-knnr.predict(X_test),2).mean()))"
   ]
  },
  {
   "cell_type": "code",
   "execution_count": 71,
   "id": "10ef6f5b",
   "metadata": {},
   "outputs": [],
   "source": [
    "df = pd.DataFrame(curs.execute(\"\"\"\n",
    "    SELECT time_floor(__time,'PT1M') AS t1,\n",
    "       sum(\"CO (ppm)\") AS CO,\n",
    "       sum(\"Humidity (%r.h.)\") AS Humidity,\n",
    "       sum(\"R1 (MOhm)\") AS R1,\n",
    "       sum(\"R3 (MOhm)\") AS R3,\n",
    "       sum(\"R4 (MOhm)\") R4,\n",
    "       sum(\"R14 (MOhm)\") R14\n",
    "FROM \"druid\".\"regression_demo\" \n",
    "GROUP BY 1\n",
    "\"\"\"))"
   ]
  },
  {
   "cell_type": "code",
   "execution_count": 72,
   "id": "b52c3faa",
   "metadata": {},
   "outputs": [],
   "source": [
    "X = df[['Humidity','R1','R3','R4','R14']]\n",
    "y = df[['CO']]"
   ]
  },
  {
   "cell_type": "code",
   "execution_count": 73,
   "id": "70d3be41",
   "metadata": {},
   "outputs": [],
   "source": [
    "X_train, X_test, y_train, y_test = train_test_split(X, y, test_size=0.33, random_state=42)"
   ]
  },
  {
   "cell_type": "code",
   "execution_count": 78,
   "id": "a8ef75c9",
   "metadata": {},
   "outputs": [
    {
     "data": {
      "text/plain": [
       "KNeighborsRegressor(n_neighbors=50)"
      ]
     },
     "execution_count": 78,
     "metadata": {},
     "output_type": "execute_result"
    }
   ],
   "source": [
    "knnr = KNeighborsRegressor(n_neighbors = 50)\n",
    "knnr.fit(X_train, y_train)"
   ]
  },
  {
   "cell_type": "code",
   "execution_count": 79,
   "id": "5d377528",
   "metadata": {},
   "outputs": [
    {
     "name": "stdout",
     "output_type": "stream",
     "text": [
      "The MSE is: CO    197303.68953\n",
      "dtype: float64\n"
     ]
    }
   ],
   "source": [
    "print (\"The MSE is:\",format(np.power(y_test-knnr.predict(X_test),2).mean()))"
   ]
  },
  {
   "cell_type": "code",
   "execution_count": 80,
   "id": "409ddca3",
   "metadata": {},
   "outputs": [],
   "source": [
    "df = pd.DataFrame(curs.execute(\"\"\"\n",
    "    SELECT time_floor(__time,'PT1S') AS t1,\n",
    "       avg(\"CO (ppm)\") AS CO,\n",
    "       avg(\"Humidity (%r.h.)\") AS Humidity,\n",
    "       avg(\"R1 (MOhm)\") AS R1,\n",
    "       avg(\"R3 (MOhm)\") AS R3,\n",
    "       avg(\"R4 (MOhm)\") R4,\n",
    "       avg(\"R14 (MOhm)\") R14\n",
    "FROM \"druid\".\"regression_demo\" where __time between '2016-09-30' and '2016-10-08'\n",
    "GROUP BY 1\n",
    "\"\"\"))"
   ]
  },
  {
   "cell_type": "code",
   "execution_count": 82,
   "id": "95d168f3",
   "metadata": {},
   "outputs": [],
   "source": [
    "X = df[['Humidity','R1','R3','R4','R14']]\n",
    "y = df[['CO']]"
   ]
  },
  {
   "cell_type": "code",
   "execution_count": 85,
   "id": "fd33fb26",
   "metadata": {},
   "outputs": [],
   "source": [
    "X_train, X_test, y_train, y_test = train_test_split(X, y, test_size=0.33, random_state=42)"
   ]
  },
  {
   "cell_type": "code",
   "execution_count": 86,
   "id": "0537b995",
   "metadata": {},
   "outputs": [
    {
     "data": {
      "text/plain": [
       "KNeighborsRegressor(n_neighbors=10)"
      ]
     },
     "execution_count": 86,
     "metadata": {},
     "output_type": "execute_result"
    }
   ],
   "source": [
    "knnr = KNeighborsRegressor(n_neighbors = 10)\n",
    "knnr.fit(X_train, y_train)"
   ]
  },
  {
   "cell_type": "code",
   "execution_count": 87,
   "id": "6fa523fe",
   "metadata": {},
   "outputs": [
    {
     "name": "stdout",
     "output_type": "stream",
     "text": [
      "The MSE is: CO    11.576547\n",
      "dtype: float64\n"
     ]
    }
   ],
   "source": [
    "print (\"The MSE is:\",format(np.power(y_test-knnr.predict(X_test),2).mean()))"
   ]
  },
  {
   "cell_type": "code",
   "execution_count": 88,
   "id": "bfbdcc73",
   "metadata": {},
   "outputs": [],
   "source": [
    "df = pd.DataFrame(curs.execute(\"\"\"\n",
    "    SELECT __time AS t1,\n",
    "       avg(\"CO (ppm)\") AS CO,\n",
    "       avg(\"Humidity (%r.h.)\") AS Humidity,\n",
    "       avg(\"R1 (MOhm)\") AS R1,\n",
    "       avg(\"R3 (MOhm)\") AS R3,\n",
    "       avg(\"R4 (MOhm)\") R4,\n",
    "       avg(\"R14 (MOhm)\") R14\n",
    "FROM \"druid\".\"regression_demo\" where __time between '2016-09-30' and '2016-10-08'\n",
    "GROUP BY 1\n",
    "\"\"\"))"
   ]
  },
  {
   "cell_type": "code",
   "execution_count": 89,
   "id": "ef9d41bb",
   "metadata": {},
   "outputs": [],
   "source": [
    "X = df[['Humidity','R1','R3','R4','R14']]\n",
    "y = df[['CO']]"
   ]
  },
  {
   "cell_type": "code",
   "execution_count": 90,
   "id": "a1cf66b7",
   "metadata": {},
   "outputs": [],
   "source": [
    "X_train, X_test, y_train, y_test = train_test_split(X, y, test_size=0.33, random_state=42)"
   ]
  },
  {
   "cell_type": "code",
   "execution_count": 91,
   "id": "643e79ef",
   "metadata": {},
   "outputs": [
    {
     "data": {
      "text/plain": [
       "KNeighborsRegressor(n_neighbors=10)"
      ]
     },
     "execution_count": 91,
     "metadata": {},
     "output_type": "execute_result"
    }
   ],
   "source": [
    "knnr = KNeighborsRegressor(n_neighbors = 10)\n",
    "knnr.fit(X_train, y_train)"
   ]
  },
  {
   "cell_type": "code",
   "execution_count": 92,
   "id": "2bba3ce9",
   "metadata": {},
   "outputs": [
    {
     "name": "stdout",
     "output_type": "stream",
     "text": [
      "The MSE is: CO    8.891102\n",
      "dtype: float64\n"
     ]
    }
   ],
   "source": [
    "print (\"The MSE is:\",format(np.power(y_test-knnr.predict(X_test),2).mean()))"
   ]
  },
  {
   "cell_type": "code",
   "execution_count": 93,
   "id": "8332ce60",
   "metadata": {},
   "outputs": [],
   "source": [
    "df = pd.DataFrame(curs.execute(\"\"\"\n",
    "    SELECT __time AS t1,\n",
    "       avg(\"CO (ppm)\") AS CO,\n",
    "       avg(\"Humidity (%r.h.)\") AS Humidity,\n",
    "       avg(\"R1 (MOhm)\") AS R1,\n",
    "       avg(\"R3 (MOhm)\") AS R3,\n",
    "       avg(\"R4 (MOhm)\") R4,\n",
    "       avg(\"R14 (MOhm)\") R14\n",
    "FROM \"druid\".\"regression_demo\" where __time between '2016-09-30' and '2016-10-03'\n",
    "GROUP BY 1\n",
    "\"\"\"))"
   ]
  },
  {
   "cell_type": "code",
   "execution_count": 94,
   "id": "1971acd8",
   "metadata": {},
   "outputs": [],
   "source": [
    "X = df[['Humidity','R1','R3','R4','R14']]\n",
    "y = df[['CO']]"
   ]
  },
  {
   "cell_type": "code",
   "execution_count": 95,
   "id": "d813b195",
   "metadata": {},
   "outputs": [],
   "source": [
    "X_train, X_test, y_train, y_test = train_test_split(X, y, test_size=0.33, random_state=42)"
   ]
  },
  {
   "cell_type": "code",
   "execution_count": 96,
   "id": "a721ce53",
   "metadata": {},
   "outputs": [
    {
     "data": {
      "text/plain": [
       "KNeighborsRegressor(n_neighbors=10)"
      ]
     },
     "execution_count": 96,
     "metadata": {},
     "output_type": "execute_result"
    }
   ],
   "source": [
    "knnr = KNeighborsRegressor(n_neighbors = 10)\n",
    "knnr.fit(X_train, y_train)"
   ]
  },
  {
   "cell_type": "code",
   "execution_count": 97,
   "id": "484930dd",
   "metadata": {},
   "outputs": [
    {
     "name": "stdout",
     "output_type": "stream",
     "text": [
      "The MSE is: CO    8.907165\n",
      "dtype: float64\n"
     ]
    }
   ],
   "source": [
    "print (\"The MSE is:\",format(np.power(y_test-knnr.predict(X_test),2).mean()))"
   ]
  },
  {
   "cell_type": "code",
   "execution_count": null,
   "id": "5aa11e08",
   "metadata": {},
   "outputs": [],
   "source": []
  }
 ],
 "metadata": {
  "kernelspec": {
   "display_name": "Python 3 (ipykernel)",
   "language": "python",
   "name": "python3"
  },
  "language_info": {
   "codemirror_mode": {
    "name": "ipython",
    "version": 3
   },
   "file_extension": ".py",
   "mimetype": "text/x-python",
   "name": "python",
   "nbconvert_exporter": "python",
   "pygments_lexer": "ipython3",
   "version": "3.9.5"
  }
 },
 "nbformat": 4,
 "nbformat_minor": 5
}
